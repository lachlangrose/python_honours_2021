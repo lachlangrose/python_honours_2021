{
 "cells": [
  {
   "cell_type": "markdown",
   "metadata": {},
   "source": [
    "# Introduction to python\n",
    "Python is a cross platform interpreted programming language, this means that the same code (with minor caveats) will work on windows and unix operating systems. The code is interpeted by a python interpreter that is installed onto your system, the interpeter converts the python code into operations that the machine can follow.   \n",
    "\n",
    "On some system python comes pre-installed (linux systems), however I would recommend using the Anaconda package manage to mange your python installation. This allows you to easily have different python environments for managing different versions of code and to avoid conflicts. It also means you can download python packages from anaconda channels where the package has been compiled with the correct dependencies for your system. This means you are less likely to have strange errors that are difficult to debug. \n",
    "\n",
    "I would recommend installing [miniconda](https://docs.conda.io/en/latest/miniconda.html) because it is a smaller install than the complete anaconda package, however it does not give you the graphical user interface for starting your python interpreter.\n",
    "\n",
    "A useful guide in getting started in anaconda is here: https://docs.conda.io/projects/conda/en/latest/user-guide/getting-started.html\n",
    "\n",
    "**when you install anaconda on windows you are asked whether to add anaconda to the path. This means that when you run the command python from any terminal (or from within a program) the anaconda python is used. It is not recommended by anaconda to use this method as if you upgrade python versions you may have issues, I would recommend not doing this**"
   ]
  },
  {
   "cell_type": "markdown",
   "metadata": {},
   "source": [
    "# The terminal\n",
    "\n",
    "The command line/terminal is a text-based program used to powerfully interact with the computer's systems and processes. Here you can perform operations like running python scripts and managing software or hardware, without the use of the operating system's graphical user interface (GUI). \n",
    "\n",
    "This notebook will cover how to\n",
    "\n",
    "- Navigate the file system\n",
    "- Use the Miniconda Python package manager\n",
    "- Write and run a python program\n",
    "\n",
    "## Navigation\n",
    "\n",
    "Navigating around the computer without the graphical file explorer can be challenging at first if dragging/dropping and clicking on things is what you're used to.\n",
    "\n",
    "The below examples list six common Windows and equivalent Unix commands.  \n",
    "\n",
    "1. dir/ls: Lists each file in the directory you are currently in.\n",
    "2. pwd: Displays the current working directory.\n",
    "3. cd: Move into the directory given and make this the working directory.\n",
    "4. mkdir: Create a directory with the given name and path.\n",
    "5. echo/touch: Create a file with the given name and path.\n",
    "6. move/mv: Move a file to the given destination directory path.\n",
    "\n",
    "### Windows\n",
    "\n",
    "```powershell\n",
    "dir \n",
    "pwd \n",
    "cd <new_location>\n",
    "mkdir <new_dir>\n",
    "echo > <new_file>\n",
    "move <file> <location>\n",
    "```\n",
    "\n",
    "### Mac/Linux\n",
    "\n",
    "```bash\n",
    "ls\n",
    "pwd\n",
    "cd <new_location>\n",
    "mkdir <new_dir>\n",
    "touch <new_file>\n",
    "mv <file> <location>\n",
    "```\n",
    "\n",
    "### Helpful tips/key bindings\n",
    "* If you use the `tab` key whilst typing something in terminal it will suggest possible ways to complete the command. On windows this will be cycling through the possible options, in unix this will be listing the possible options.\n",
    "* `arrows` you can use the up and down arrows on your keyboard to cycle between previously typed commands\n",
    "* To change drives using windows command prompt type the drive letter you want to change to\n",
    "* To move up directiories just type `cd ..` or for multiple directories `cd ../..`\n",
    "\n"
   ]
  },
  {
   "cell_type": "markdown",
   "metadata": {},
   "source": [
    "## Exercise\n",
    "Determine a working directory for this course. I would suggest a folder in your Documents/home directory.\n",
    "\n",
    "1. Change directory into this folder using the terminal \n",
    "2. Create a file in this directory that contains the text `I created this file using the terminal` named `myfirsterminalfile.txt`. \n",
    "3. Now change the extension of this file to `.text`. \n",
    "4. Create a new folder `day 1` \n",
    "5. Make a copy of the file you created inside the `day 1` directory folder\n",
    "6. Delete the original copy\n",
    "\n",
    "**Try to do this all using terminal because being able to use terminal efficiently will be a significant advantage when trying to code**"
   ]
  },
  {
   "cell_type": "code",
   "execution_count": null,
   "metadata": {},
   "outputs": [],
   "source": []
  },
  {
   "cell_type": "code",
   "execution_count": null,
   "metadata": {},
   "outputs": [],
   "source": []
  },
  {
   "cell_type": "markdown",
   "metadata": {},
   "source": [
    "# Python\n",
    "\n",
    "Python is an interpetive programming language. This means that the code that you write is converted into instructions for the computer when you run the code. To be able to run python code we need to have a Python interpeter installed on the computer. There are many different ways that this can be done and in some cases your computer may already have an interpeter. One of the appeals of Python is the large community that develop tools and libraries that can be applied to your own problems. These libraries provide additional instructions for the interpeted and can change how specific aspects of the code are run. In some cases the wrong combination of libraries will result in an error, or unexpected results. For this reason it is very important to be able to manage the different libaries that are being used for a specific problem.\n",
    "\n",
    "Python can be used in virtual environments, these can be thought of as separate installations of Python. A virtual environment can be created for a particular project or task and you can be sure that you do not contaminate an existing project trying new libraries. **Virtual environments might seem uncessary at first but they can be very useful for managing advanced projects**\n",
    "\n",
    "For this course we will use anaconda/miniconda for installing and managing your python virtual environments. \n",
    "\n",
    "### Installation\n",
    "\n",
    "1. Navigate to [https://docs.conda.io/en/latest/miniconda.html](https://docs.conda.io/en/latest/miniconda.html)\n",
    "2. Windows: Download and run the relevant installer making sure to check the 'Add to PATH option'.\n",
    "\n",
    "    OSX: Download the installer, navigate to its location in terminal and run the following command -make sure to accept the option to add the installation to the path.\n",
    "\n",
    "    ```bash\n",
    "    bash Miniconda3-latest-MacOSX-x86_64.sh \n",
    "    ```\n",
    "\n",
    "### Commands\n",
    "\n",
    "As with the default commands included in your OS, conda provides us with many of their own. A comprehensive list of these can be found here - [https://docs.conda.io/projects/conda/en/latest/commands.html#conda-general-commands](https://docs.conda.io/projects/conda/en/latest/commands.html#conda-general-commands)\n",
    "\n",
    "Some important ones are as follows, these are the same in both DOS and Unix based systems.\n",
    "\n",
    "```bash\n",
    "conda --version\n",
    "conda env list\n",
    "conda create -n <env_name> python=<py_version> <required module/s>\n",
    "conda remove -n <env_name> --all\n",
    "conda activate <env_name>\n",
    "conda deactivate <env_name>\n",
    "conda install <required_module/s>\n",
    "conda remove <installed_modules>\n",
    "```\n",
    "\n",
    "To activate an interactive python environment in your terminal you can run the command:\n",
    "```bash\n",
    "python\n",
    "```\n",
    "This will allow you to input python commands line by line. "
   ]
  },
  {
   "cell_type": "markdown",
   "metadata": {},
   "source": [
    "### Exercise\n",
    "1. Using the terminal navigate to the `day_1` folder that you were in before\n",
    "2. start a python interpeter\n",
    "3. run `print('hello world')\n",
    "4. Now create a file `helloworld.py` (using terminal) where the contents of the file are `print('hello world')`. \n",
    "5. Run this file from the terminal `python helloworld.py`\n",
    "6. Try to use python as a calculator and calculate $\\frac{1+10+40}{3}$"
   ]
  },
  {
   "cell_type": "code",
   "execution_count": null,
   "metadata": {},
   "outputs": [],
   "source": []
  },
  {
   "cell_type": "code",
   "execution_count": null,
   "metadata": {},
   "outputs": [],
   "source": []
  },
  {
   "cell_type": "markdown",
   "metadata": {},
   "source": [
    "### Installing libraries into your python environment\n",
    "One of the advantages of python is the large community contributing to different libraries that can be used for generic operations or specific tasks.\n",
    "\n",
    "Libraries are how different functionalities can be added to your python environment, they can be installed in a variety of ways using package managers or manually installing them. It is recommended to follow the instructions of the author of the package that you are using to install the library to make sure you have the most up to date version. \n",
    "\n",
    "#### Conda\n",
    "Anaconda is a very powerful package manager that manages both python libraries and the underlying libraries used by these python libraries. Conda searches for a compatible combination of libaries to ensure you do not have any issues, it can take a while to install some combinations of libaries however you are unlikely to have issues if it has worked. **If you can use conda, use conda**.\n",
    "\n",
    "The syntax for installing a libary using the conda package manager is :\n",
    "\n",
    "`conda install <library_name>`\n",
    "\n",
    "where the `<library_name>` is the identifying name on the anaconda repository, by default conda uses the anaconda channel to search for packages. This has a limited number of packages available.\n",
    "Additional channels can be used by conda install, for example conda-forge is a community driven channel where many more libaries can be found. To add a channel into the conda install simply add `-c conda-forge` to the installation instructions:\n",
    "\n",
    "`conda install -c conda-forge <library_name>` \n",
    "\n",
    "**I would recommend using -c conda-forge for all installations as it can make it easier for the installer to find dependencies**\n",
    "\n",
    "#### Pip\n",
    "Another package manager is pip, this searches the python package index for the library being installed. In general pip does not try to resolve dependencies.\n",
    "\n",
    "`pip install <packagename>`\n",
    "\n",
    "#### Installing from source\n",
    "If you are using a library that is actively being developed, or hasn't been released you may need to build the library directly. In general, I would recommend following the authors instructions however you can usually install a library using:\n",
    "\n",
    "`pip install .` \n",
    "\n",
    "when you are inside the directory containing `setup.py` for the source files.\n"
   ]
  },
  {
   "cell_type": "code",
   "execution_count": null,
   "metadata": {},
   "outputs": [],
   "source": []
  },
  {
   "cell_type": "code",
   "execution_count": null,
   "metadata": {},
   "outputs": [],
   "source": []
  },
  {
   "cell_type": "markdown",
   "metadata": {},
   "source": [
    "### Jupyter notebooks\n",
    "In this course we will use jupyter notebooks for writing the code and visualising results. Jupyter notebooks provide an interactive python environment where code can be written and incorporated with text and figures (these notebooks have been written as jupyter notebooks).\n",
    "\n",
    "To install jupyter you need to run:\n",
    "\n",
    "`conda install -c conda-forge jupyter`\n",
    "\n",
    "Jupyter labs is a more sophisticated environment for running and viewing jupyter notebooks\n",
    "\n",
    "`conda install -c conda-forge jupyterlab`\n",
    "\n",
    "You can start a jupyter notebook or lab server by running the following in terminal. Note that the directory you are located in, is the directory that the notebook starts.\n",
    "\n",
    "`jupyter notebook` or `jupyter lab`\n"
   ]
  },
  {
   "cell_type": "markdown",
   "metadata": {},
   "source": []
  },
  {
   "cell_type": "code",
   "execution_count": null,
   "metadata": {},
   "outputs": [],
   "source": []
  },
  {
   "cell_type": "markdown",
   "metadata": {},
   "source": [
    "### Exercise\n",
    "* Try to open a jupyter notebook or lab server to view this document as an .ipynb file\n",
    "* Familiarise yourself with the terminal and commands for navigating "
   ]
  },
  {
   "cell_type": "code",
   "execution_count": null,
   "metadata": {},
   "outputs": [],
   "source": []
  },
  {
   "cell_type": "code",
   "execution_count": null,
   "metadata": {},
   "outputs": [],
   "source": []
  },
  {
   "cell_type": "markdown",
   "metadata": {},
   "source": [
    "### Google colab\n",
    "You can also use Google Colab to run jupyter notebooks, however these do not come with conda and will need to use pip to manage the packages. https://colab.research.google.com/\n",
    "\n",
    "Google"
   ]
  }
 ],
 "metadata": {
  "kernelspec": {
   "display_name": "Python 3",
   "language": "python",
   "name": "python3"
  },
  "language_info": {
   "codemirror_mode": {
    "name": "ipython",
    "version": 3
   },
   "file_extension": ".py",
   "mimetype": "text/x-python",
   "name": "python",
   "nbconvert_exporter": "python",
   "pygments_lexer": "ipython3",
   "version": "3.9.2"
  }
 },
 "nbformat": 4,
 "nbformat_minor": 4
}
