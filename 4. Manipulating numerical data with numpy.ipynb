{
 "cells": [
  {
   "cell_type": "markdown",
   "metadata": {},
   "source": [
    "# Numpy - numerical python\n",
    "Numpy is not a base python library but is considered as one of the fundamental libraries for scientific computing and data anlysis. Some of the key points that we will cover today are:\n",
    "* Numpy provides a high performance and easy to use data structure for manipulating numerical data. \n",
    "* Numpy has been optimised standard mathematical operations to be performed on the whole array rather than using loops. \n",
    "* Numpy has very powerful slicing and indexing that can be performed on the arrays.\n",
    "\n",
    "To use numpy in your code you need to import the numpy, this means that every numpy object/function comes from the numpy module - there are a few ways that numpy can be imported.\n",
    "```Python\n",
    "import numpy\n",
    "```\n",
    "Will import numpy and require `numpy` to preceed any numpy operation you want to use  - **this is not the usual approach**\n",
    "\n",
    "The common approach is to add an alias to numpy.\n",
    "```Python\n",
    "import numpy as np\n",
    "```\n",
    "Which imports the `numpy` module with an alias of `np` so only `np` needs to preceed the operations."
   ]
  },
  {
   "cell_type": "markdown",
   "metadata": {},
   "source": [
    "## Arrays\n",
    "The `ndarray` is numpys N-dimensional data structure, for storing and manipulating large data sets in Python. Unlike a python list, numpy arrays should be created for the final size or larger. \n",
    "Every array has a `shape` which returns a tuple of the length of each dimension, and a `dtype` which returns the datatype of the variables in the array.\n",
    "### Creating arrays\n",
    "Arrays can be created from a list \n",
    "```Python\n",
    "import numpy as np\n",
    "data = [0,0,0,0]\n",
    "array = np.array(data) # create a array from list\n",
    "array = np.array([0,0,0,0]) # same as above\n",
    "array = np.array([[1,0,0],[0,1,0],[0,0,1]]) # creates identity matrix\n",
    "```\n",
    "\n",
    "Or an empty array can be created using one of the helper functions\n",
    "* To create an empty array with potentially random values `np.empty(shape)`\n",
    "* To create an array of zeros `np.zeros(shape)`\n",
    "* To create an array of ones `np.ones(shape)`\n",
    "* To create an identity matrix `np.eye(N)`\n",
    "* We can also specify the dtype of an array that is created e.g. np.zeros(shape,dtype='int')\n",
    "```Python\n",
    "import numpy as np\n",
    "np.empty((10,10)) #creates a 10x10 array\n",
    "np.zeros((12,2,30)) # creates a 12x2x30 array filled with zeros\n",
    "np.ones((2,30,10)) # creates a 2x30,10 array filled with ones\n",
    "```\n",
    "\n",
    "Try the following\n",
    "\n",
    "1. Create an array from a list of values with 100 entries where every second entry is 1 - eg. [0,1,0,1,0,....,1]\n",
    "2. Create an empty 5-d array with a shape of 1,2,3,4,5\n",
    "2. Create the same array but with zero values\n",
    "3. Create the same array but with ones"
   ]
  },
  {
   "cell_type": "code",
   "execution_count": null,
   "metadata": {},
   "outputs": [],
   "source": []
  },
  {
   "cell_type": "code",
   "execution_count": null,
   "metadata": {},
   "outputs": [],
   "source": []
  },
  {
   "cell_type": "markdown",
   "metadata": {},
   "source": [
    "### Manipulating arrays\n",
    "Numpy arrays can be manipulated using the same operators as scalar variables and this performs the same operation for each element. Many mathematical operations can be performed on numpy arrays combining multiple arrays or mixing scalar variables and numpy arrays. Some examples are included below but this is not an exhaustive list!\n",
    "```Python\n",
    "import numpy as np\n",
    "array = np.ones(10)\n",
    "array*=2 #multiple ones by 2 to get an array of 2's\n",
    "\n",
    "array1 = np.array([0,1,2,3,4])\n",
    "array2 = np.array([2,3,5,1,3])\n",
    "array1xarray2=array1*array2 # element wise multiplication\n",
    "\n",
    "array1topowerofarray2=array1**array2\n",
    "\n",
    "array1minusarray2 = array1-array2\n",
    "sqrtarray1 = np.sqrt(array1)\n",
    "\n",
    "exparray1 = np.exp(array1)\n",
    "logarray1 = np.log(array1)\n",
    "```\n",
    "Exercise:\n",
    "1. Create an array (10,10) array of ints where the value is initialised to 5 \n",
    "2. What happens if you multiple an array of integers by a float?\n",
    "3. Convert the following code to numpy - note `np.arange(start,stop,step)` produces a vector of values going from the start to the end.\n",
    "```Python\n",
    "import math\n",
    "v = []\n",
    "for x in range(10):\n",
    "    v = math.sin(v)\n",
    "```\n",
    "4. `np.linspace(start,stop,nsteps)` creates an array where the first and last values are start and stop and there are npsteps elements evenly space between. Create an array between 0 and 10 with 11 elements. Now calculate the squared value of every element in this array.\n",
    "5. `np.random.random(shape)` create an array of random numbers in the shape specified between 0,1. Create a (10x10) array and calculate the logarithm of the variable. Now check that the value in each cell is the same as calculated by the math module by iterating over the array.\n",
    "6. Multiply `np.array([0,1,2,3])` with `np.array([3,10,4])` - what happens?"
   ]
  },
  {
   "cell_type": "code",
   "execution_count": null,
   "metadata": {},
   "outputs": [],
   "source": []
  },
  {
   "cell_type": "code",
   "execution_count": 17,
   "metadata": {},
   "outputs": [],
   "source": []
  },
  {
   "cell_type": "markdown",
   "metadata": {},
   "source": [
    "### Indexing and slicing arrays\n",
    "Numpy arrays can be indexed and sliced using the same syntax as other python objects\n",
    "```Python\n",
    "example = np.linspace(0,1,100)\n",
    "first_element = example[0]\n",
    "every_second_element = example[::2]\n",
    "first_ten_elements = example[:10]\n",
    "```\n",
    "\n",
    "We can also use the same indexing on multi-dimensional arrays - separating each dimension with a comma. \n",
    "```Python\n",
    "example = np.random.random((100,100,100))\n",
    "sliced_array = example[:10,20:,::2]\n",
    "```\n",
    "\n",
    "Arrays can also be index using another array (of integers) or a list of integers. \n",
    "```Python\n",
    "array1 = np.arange(0,10,1)\n",
    "array2 = np.random.randint(0,10,10)\n",
    "print('array1 ', array1)\n",
    "print('array1 indexed by array2',array1[array2])\n",
    "```\n",
    "### Exercise\n",
    "1. Create a 2-d array where half of the values are 1 and half are zero\n",
    "2. Try indexing an array with a list of indices\n",
    "\n"
   ]
  },
  {
   "cell_type": "code",
   "execution_count": null,
   "metadata": {},
   "outputs": [],
   "source": []
  },
  {
   "cell_type": "code",
   "execution_count": null,
   "metadata": {},
   "outputs": [],
   "source": []
  },
  {
   "cell_type": "markdown",
   "metadata": {},
   "source": [
    "### Demonstration\n",
    "Visual slicing visualing array data"
   ]
  },
  {
   "cell_type": "code",
   "execution_count": 10,
   "metadata": {},
   "outputs": [
    {
     "data": {
      "text/plain": [
       "<matplotlib.image.AxesImage at 0x7f3bf9b06760>"
      ]
     },
     "execution_count": 10,
     "metadata": {},
     "output_type": "execute_result"
    },
    {
     "data": {
      "image/png": "[encoded data removed]",
      "text/plain": [
       "<Figure size 288x288 with 1 Axes>"
      ]
     },
     "metadata": {
      "needs_background": "light"
     },
     "output_type": "display_data"
    }
   ],
   "source": [
    "import matplotlib.pyplot as plt\n",
    "import numpy as np\n",
    "array = np.zeros((11,11))\n",
    "array = array.flatten()\n",
    "array[::2] = 1\n",
    "array = array.reshape((11,11))\n",
    "plt.matshow(array)\n"
   ]
  },
  {
   "cell_type": "code",
   "execution_count": null,
   "metadata": {},
   "outputs": [],
   "source": []
  },
  {
   "cell_type": "markdown",
   "metadata": {},
   "source": [
    "### Manipulating array shapes\n",
    "There are multiple ways to change the shape of a numpy array\n",
    "1. Ravel - returns a flattened **view** of an ndarray\n",
    "2. Flatten - returns a flattened **copy**  of an ndarray\n",
    "2. Reshape (Nx,Ny,Nz) - convert the size of an existing array into the specified size. Note be aware of the different ordering methods for arrays.   \n",
    "3. Transpose - Returns the transpose of the array `np.transpose` or `array.T`\n",
    "4. swapaxes\n",
    "5. hstack, vstack, \n",
    "6. None indexing\n",
    "\n",
    "Multiple `ndarrays` can be combined by stacking them together if they share an axis dimension. We can combine \n",
    "Exercise\n",
    "1. Create an array of integers shape (10,10) and assign the first 5 rows to be 1\n",
    "2. Use a combination of None indexing, np.arange and flatten to create an array that is 25 elements long repeating 0,1,2,3,4,0,1,3.....\n",
    "3. Create a 1-d array with 50 values ranging from 0,50 and reshape it to (5,10) - what happens if you then reshape it to 10,5?"
   ]
  },
  {
   "cell_type": "code",
   "execution_count": null,
   "metadata": {},
   "outputs": [],
   "source": []
  },
  {
   "cell_type": "code",
   "execution_count": null,
   "metadata": {},
   "outputs": [],
   "source": []
  },
  {
   "cell_type": "markdown",
   "metadata": {},
   "source": [
    "### Masked arrays\n",
    "It is also possible to index an array with an equally sized boolean array. E.g. we will create a 4x4 array with values ranging from 0-15. Then we will index it using the identity matrix converted to a boolean. \n",
    "```Python\n",
    "import numpy as np\n",
    "array = np.arange(16).reshape((4,4))\n",
    "array[np.eye(4).astype(bool)]\n",
    "array([ 0,  5, 10, 15])\n",
    "```\n",
    "\n",
    "### Conditional logic with arrays\n",
    "It is also possible to combine two boolean arrays using either the `logical_and` or `logical_or` functions.\n",
    "\n",
    "**logical_and**  returns true if both elements are True\n",
    "\n",
    "**logical_or** returns true if one element is True\n",
    "\n",
    "Other logical functions you may wish to do on numpy arrays are checking whether all elements in an array meet a boolean criteria, or whether any elements in an array meet a boolean criteria.\n",
    "\n",
    "```Python\n",
    "a = np.linspace(0,1,10)\n",
    "np.all(a > 0) # returns True\n",
    "np.all(a < 0) # returns False\n",
    "np.all(a > 0.5) # returns False\n",
    "np.any(a > 0.5) # returns True\n",
    "```\n",
    "\n",
    "You can also do this for an axis in an array using the axis argument. Where axis 0 is the first axis and axis 1 is the second axis.\n",
    "\n",
    "\n",
    "#### Exercise\n",
    "1. Recode the following using numpy masked array.\n",
    "```Python\n",
    "import math\n",
    "results = []\n",
    "for i in range(100):\n",
    "    results[i] = math.cos(i)\n",
    "    if i // 2 == 0:\n",
    "        results[i] = i**2\n",
    "```\n",
    "2. Create two random arrays of the same shape with 100 elements each- `np.random.random((10,10))` - now use logical and to create a new boolean array where assessing where both arrays are `>0.5`\n",
    "3. Try the same thing but using logical_or\n",
    "4. Use `np.any` to determine if there are any locations in array 1 that are `>0.5` and not `>0.5` in array 2. "
   ]
  },
  {
   "cell_type": "code",
   "execution_count": null,
   "metadata": {},
   "outputs": [],
   "source": []
  },
  {
   "cell_type": "code",
   "execution_count": null,
   "metadata": {},
   "outputs": [],
   "source": []
  },
  {
   "cell_type": "markdown",
   "metadata": {},
   "source": [
    "# Numpy modules\n",
    "We have really only touched on the basics of the numpy ndarray datastructure. The numpy library includes numerous mathematical tools and specialised linear algebra tools.\n",
    "\n",
    "* numpy.random - random sampling\n",
    "* numpy.linalg - linear algebra\n",
    "\n",
    "Numpy is powerful because all of modules/functions are optimised for working with the ndarrays.\n",
    "\n",
    "* For more information about using numpy look at the [online documentation](https://numpy.org/doc/stable/user/index.html) \n",
    "* For more advanced scientific functionalities scipy is a sister module to numpy and provides more advanced \n",
    " "
   ]
  },
  {
   "cell_type": "code",
   "execution_count": null,
   "metadata": {},
   "outputs": [],
   "source": []
  },
  {
   "cell_type": "code",
   "execution_count": null,
   "metadata": {},
   "outputs": [],
   "source": []
  },
  {
   "cell_type": "markdown",
   "metadata": {},
   "source": [
    "### Exercises\n"
   ]
  }
 ],
 "metadata": {
  "kernelspec": {
   "display_name": "Python 3",
   "language": "python",
   "name": "python3"
  },
  "language_info": {
   "codemirror_mode": {
    "name": "ipython",
    "version": 3
   },
   "file_extension": ".py",
   "mimetype": "text/x-python",
   "name": "python",
   "nbconvert_exporter": "python",
   "pygments_lexer": "ipython3",
   "version": "3.9.2"
  }
 },
 "nbformat": 4,
 "nbformat_minor": 4
}
