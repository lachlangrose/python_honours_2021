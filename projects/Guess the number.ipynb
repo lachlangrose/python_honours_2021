{
 "cells": [
  {
   "cell_type": "markdown",
   "id": "catholic-proceeding",
   "metadata": {},
   "source": [
    "# Project 1 - Guess the number\n",
    "Try to write a small piece of code that \n",
    "* Randomly generates and stores an integer using `random.randrange`  \n",
    "* Allows the user to guess the number giving greater than or less than feedback\n",
    "* Only gives the user a finite number of lives\n",
    "* Use a combination of while and if statements\n",
    "* Tell the user when they have guessed correctly\n",
    "\n",
    "To use `random.randrange` use the following code snippet:\n",
    "```Python\n",
    "import random\n",
    "stop = 10 #max number to choose from\n",
    "randomint = random.randrange(stop)\n",
    "# or we can specify the start\n",
    "start = 1\n",
    "randomint = random.randrange(start,stop)\n",
    "# and we can specify the step\n",
    "step = 2\n",
    "randomint = random.randrange(start,stop,step)\n",
    "```"
   ]
  },
  {
   "cell_type": "code",
   "execution_count": null,
   "id": "printable-isaac",
   "metadata": {},
   "outputs": [],
   "source": []
  }
 ],
 "metadata": {
  "kernelspec": {
   "display_name": "Python 3",
   "language": "python",
   "name": "python3"
  },
  "language_info": {
   "codemirror_mode": {
    "name": "ipython",
    "version": 3
   },
   "file_extension": ".py",
   "mimetype": "text/x-python",
   "name": "python",
   "nbconvert_exporter": "python",
   "pygments_lexer": "ipython3",
   "version": "3.9.2"
  }
 },
 "nbformat": 4,
 "nbformat_minor": 5
}
