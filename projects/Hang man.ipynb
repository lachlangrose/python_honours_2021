{
 "cells": [
  {
   "cell_type": "markdown",
   "id": "accurate-frontier",
   "metadata": {},
   "source": [
    "# Project 2 - Hang man\n",
    "Now it is time to put all of what you have learnt today to the test with your own project and create a hangman game.\n",
    "This project will let you test and apply your knowledge on:\n",
    "1. Importing data using pandas\n",
    "2. Working with primitive data types, especially strings\n",
    "3. Program logic - While and if statements\n",
    "\n",
    "Hangman rules:\n",
    "1. Guess random word, define number of letters with e.g. `_ _ _ _ _ `\n",
    "2. Guess letters in the word\n",
    "    * If letter is in word then replace unknown letter with letter\n",
    "    * If not in word then the player looses a life\n",
    "3. Keep going until the number of lives is reached or the word is guessed. \n",
    "\n",
    "**Some hints:**\n",
    "1. Using pandas import the `english-words.txt` file\n",
    "2. Randomly select a word from this dataframe by using the random module to generate a random variable and use this index to get a variable from the data frame.\n",
    "```Python\n",
    "import random\n",
    "random_integer random.randrange(maximum_number)\n",
    "dataframe[random_integet]\n",
    "```\n",
    "3. Use string formatting to track your game\n",
    "4. Use string.find(\" \") to check if a letter is in the random word.\n",
    "6. The syntax to allow user input inside a jupyter notebook is :\n",
    "    ```Python\n",
    "    guess = input(\"Name of variable to input: \") \n",
    "    ```\n",
    "    \n",
    "7. Some code to get you started\n",
    "```Python\n",
    "character_display = '%s ' #string formatting for a character and space\n",
    "number_of_letters_to_guess = len(random_word) # number of letters in word\n",
    "word_guess = character_display*number_of_letters_to_guess # a string containting the format code that is long enough to store the word... %s %s %s\n",
    "guess = [\"_\" for i in range(number_of_letters_to_guess)] # inline list comprehension to build a list of [\"_\",\"_\",\"_\",\"_\"...] \n",
    "print(word_guess%tuple(guess)) # printing out the format string with the guess\n",
    "```"
   ]
  },
  {
   "cell_type": "code",
   "execution_count": null,
   "id": "final-traveler",
   "metadata": {},
   "outputs": [],
   "source": []
  }
 ],
 "metadata": {
  "kernelspec": {
   "display_name": "Python 3",
   "language": "python",
   "name": "python3"
  },
  "language_info": {
   "codemirror_mode": {
    "name": "ipython",
    "version": 3
   },
   "file_extension": ".py",
   "mimetype": "text/x-python",
   "name": "python",
   "nbconvert_exporter": "python",
   "pygments_lexer": "ipython3",
   "version": "3.9.2"
  }
 },
 "nbformat": 4,
 "nbformat_minor": 5
}
