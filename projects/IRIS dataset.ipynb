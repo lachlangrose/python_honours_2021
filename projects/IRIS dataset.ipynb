{
 "cells": [
  {
   "cell_type": "markdown",
   "id": "correct-canada",
   "metadata": {},
   "source": [
    "# Project 1: Analysing the IRIS dataset\n",
    "This project uses the Iris data set which is a multivariate dataset containing 150 records measuring width and length of the iris flower sepals and petals. The iris dataset is in a csv `iris.csv`\n",
    " \n",
    "1. Create a scatter plot of all combination of variables \n",
    "2. Normalise each observations to be between 0,1 \n",
    "3. Calculate a distance matrix measuring the distance between each sample and every other sample in the normalised measurement space - try and use numpy syntax here e.g. look at np.linalg.norm and the axis argument, also look at using `None` indexing\n",
    "4. Can you see any groups in the distance matrix?\n",
    "5. Try and implement a k-means clustering algorithm to label these groups of data\n",
    "6. Try adding the classifications to the scatter plot using the c argument.\n",
    "7. Compare the clustering results to the distance matrix\n",
    "8. Use an existing implementation such as the `sklearn.cluster.kmeans` and compare your results to the results of this algorithm \n",
    "\n",
    "Here is some pseudocode\n",
    "\n",
    "```\n",
    "Randomly generate starting K centroids by randomly selecting K observations  \n",
    "\n",
    "while not converged:\n",
    "    Associate every observation with its nearest centroid\n",
    "    The centroid of the new clusters becomes the new mean\n",
    "    if centroids are the same:\n",
    "        converged = True\n",
    "Assign each data point to a cluster by finding the minimum distance\n",
    "``` \n",
    "### Notes\n",
    "Tr:\n",
    "* 20% of the marks for the design and implementation of the k-means algorithm\n",
    "* 15% of the marks for the presentation and communication of the results, try and make the figures paper quality\n",
    "* 5% of the mark will be the coherency of the jupyter notebook \n"
   ]
  },
  {
   "cell_type": "code",
   "execution_count": null,
   "id": "proved-selling",
   "metadata": {},
   "outputs": [],
   "source": []
  }
 ],
 "metadata": {
  "kernelspec": {
   "display_name": "Python 3",
   "language": "python",
   "name": "python3"
  },
  "language_info": {
   "codemirror_mode": {
    "name": "ipython",
    "version": 3
   },
   "file_extension": ".py",
   "mimetype": "text/x-python",
   "name": "python",
   "nbconvert_exporter": "python",
   "pygments_lexer": "ipython3",
   "version": "3.9.1"
  }
 },
 "nbformat": 4,
 "nbformat_minor": 5
}
